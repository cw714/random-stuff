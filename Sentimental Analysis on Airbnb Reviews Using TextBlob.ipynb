{
 "cells": [
  {
   "cell_type": "markdown",
   "metadata": {},
   "source": [
    "## 1. Project Background\n",
    "This project aims to use textblob to perform textual analysis on reviews of Airbnb listings in Tokyo in March 2019. The data is download from InsideAirbnb, an independent, non-commercial set of tools and data that allows you to explore how Airbnb is really being used in cities around the world. \n",
    "\n",
    "Each listing will have more than one reviews. We will obtain the polarity, subjectivity and length of each review in terms of number of words for each review, and aggregate them on a listing level. Purpose of ob"
   ]
  },
  {
   "cell_type": "markdown",
   "metadata": {},
   "source": [
    "## 2. Understanding and Preparing Data"
   ]
  },
  {
   "cell_type": "code",
   "execution_count": 1,
   "metadata": {},
   "outputs": [],
   "source": [
    "import pandas as pd\n",
    "from textblob import TextBlob"
   ]
  },
  {
   "cell_type": "code",
   "execution_count": 3,
   "metadata": {
    "scrolled": true
   },
   "outputs": [
    {
     "name": "stderr",
     "output_type": "stream",
     "text": [
      "/Users/CelineWong/anaconda3/lib/python3.7/site-packages/IPython/core/interactiveshell.py:3057: DtypeWarning: Columns (0,1) have mixed types. Specify dtype option on import or set low_memory=False.\n",
      "  interactivity=interactivity, compiler=compiler, result=result)\n"
     ]
    }
   ],
   "source": [
    "df_reviews_march = pd.read_csv(\"tokyoreviews_March2019_with_lang_final.csv\")"
   ]
  },
  {
   "cell_type": "markdown",
   "metadata": {},
   "source": [
    "The review data contains more than 300,000 observations for March data alone. All data columns, excep language, are extracted from InsideAirbnb. We precess the language of each review using another program, which will noe be in-scope in this case. Note that TextBlob does not work on langauges other than English in this case."
   ]
  },
  {
   "cell_type": "code",
   "execution_count": 4,
   "metadata": {
    "scrolled": true
   },
   "outputs": [
    {
     "data": {
      "text/plain": [
       "listing_id        object\n",
       "id                object\n",
       "date              object\n",
       "reviewer_id      float64\n",
       "reviewer_name     object\n",
       "comments          object\n",
       "language          object\n",
       "dtype: object"
      ]
     },
     "execution_count": 4,
     "metadata": {},
     "output_type": "execute_result"
    }
   ],
   "source": [
    "#understand the data type of each column\n",
    "df_reviews_march.dtypes"
   ]
  },
  {
   "cell_type": "code",
   "execution_count": 6,
   "metadata": {
    "scrolled": true
   },
   "outputs": [
    {
     "data": {
      "text/plain": [
       "en       190695\n",
       "ko        33571\n",
       "zh-cn     32114\n",
       "ja        23595\n",
       "fr         5962\n",
       "es         2556\n",
       "zh-tw      1148\n",
       "de         1136\n",
       "so         1125\n",
       "th          929\n",
       "ro          807\n",
       "it          646\n",
       "            584\n",
       "af          563\n",
       "ru          316\n",
       "pt          299\n",
       "id          294\n",
       "pl          293\n",
       "nl          266\n",
       "cs          259\n",
       "ca          204\n",
       "no          145\n",
       "vi          121\n",
       "sv          116\n",
       "tl          103\n",
       "da           85\n",
       "cy           85\n",
       "fi           78\n",
       "hr           76\n",
       "sw           54\n",
       "et           53\n",
       "sk           39\n",
       "hu           34\n",
       "tr           23\n",
       "sq           20\n",
       "sl           19\n",
       "ar            8\n",
       "lt            7\n",
       "lv            5\n",
       "el            4\n",
       "bg            3\n",
       "mk            2\n",
       "he            2\n",
       "uk            1\n",
       "Name: language, dtype: int64"
      ]
     },
     "execution_count": 6,
     "metadata": {},
     "output_type": "execute_result"
    }
   ],
   "source": [
    "#count the number for each unique value in language \n",
    "df_reviews_jun[\"language\"].value_counts()"
   ]
  },
  {
   "cell_type": "markdown",
   "metadata": {},
   "source": [
    "To obtain the length, subjectivity and polarity for each review, we iterate each observation by their review id and combine thern into a list, which is further transformed to a panda dataframe"
   ]
  },
  {
   "cell_type": "code",
   "execution_count": 7,
   "metadata": {},
   "outputs": [],
   "source": [
    "#Create a list which contain the unique review id, polarity and subjectivity score for each review for March Data.\n",
    "mar=[]\n",
    "for index1, row1 in df_reviews_march.iterrows():\n",
    "    review_id=row1['id']\n",
    "    reviews = row1['comments']\n",
    "    reviews = str(reviews)\n",
    "    lengrev = len(reviews.split())    \n",
    "    testimonial = TextBlob(reviews)\n",
    "    polarity=testimonial.sentiment.polarity\n",
    "    subjectivity=testimonial.sentiment.subjectivity\n",
    "    mar.append({'Review_id':review_id,'Review_Length':lengrev, 'Polarity':polarity, 'Subjectivity': subjectivity})"
   ]
  },
  {
   "cell_type": "code",
   "execution_count": 11,
   "metadata": {},
   "outputs": [],
   "source": [
    "#Transform the list to pandas dataframe\n",
    "mardf=pd.DataFrame(mar)"
   ]
  },
  {
   "cell_type": "code",
   "execution_count": 12,
   "metadata": {},
   "outputs": [],
   "source": [
    "#Rearrange the column sequence\n",
    "mardf = mardf[['Review_id','Review_Length','Polarity', 'Subjectivity']]"
   ]
  },
  {
   "cell_type": "markdown",
   "metadata": {},
   "source": [
    "We merge the data frame we just created with the main table by review id. After merging the two dataframes, we aggregate the review score on listing level and save the result for further analysis."
   ]
  },
  {
   "cell_type": "code",
   "execution_count": 14,
   "metadata": {},
   "outputs": [],
   "source": [
    "#combine the dataframe which contains the subjectivity and polarity score to the main table table, using the review ID as the key\n",
    "merge_reviews_mar = pd.merge(df_reviews_march,mardf,left_on=['id'], right_on=['Review_id'],how='outer')\n"
   ]
  },
  {
   "cell_type": "code",
   "execution_count": 29,
   "metadata": {},
   "outputs": [],
   "source": [
    "merge_reviews_mar['listing_id'] = merge_reviews_mar.listing_id.astype(int)"
   ]
  },
  {
   "cell_type": "code",
   "execution_count": 31,
   "metadata": {},
   "outputs": [],
   "source": [
    "#Save the combined result\n",
    "export_csv = merge_reviews_mar.to_csv(r'march_review_wanalysis.csv',index=None, header=True)\n"
   ]
  },
  {
   "cell_type": "code",
   "execution_count": 33,
   "metadata": {},
   "outputs": [],
   "source": [
    "#Calculate the mean polarity and subjectivity of every listing, group by listing ID\n",
    "agg_march=merge_reviews_mar.groupby('listing_id').agg({'Review_Length':'mean','Polarity':'mean','Subjectivity':'mean' }).reset_index()\n"
   ]
  },
  {
   "cell_type": "code",
   "execution_count": 34,
   "metadata": {},
   "outputs": [],
   "source": [
    "export_csv=agg_march.to_csv(r'march_review_score.csv',index=None, header=True)\n"
   ]
  },
  {
   "cell_type": "code",
   "execution_count": null,
   "metadata": {},
   "outputs": [],
   "source": []
  }
 ],
 "metadata": {
  "kernelspec": {
   "display_name": "Python 3",
   "language": "python",
   "name": "python3"
  },
  "language_info": {
   "codemirror_mode": {
    "name": "ipython",
    "version": 3
   },
   "file_extension": ".py",
   "mimetype": "text/x-python",
   "name": "python",
   "nbconvert_exporter": "python",
   "pygments_lexer": "ipython3",
   "version": "3.7.3"
  },
  "widgets": {
   "application/vnd.jupyter.widget-state+json": {
    "state": {},
    "version_major": 2,
    "version_minor": 0
   }
  }
 },
 "nbformat": 4,
 "nbformat_minor": 2
}
